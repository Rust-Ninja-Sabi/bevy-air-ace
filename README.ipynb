{
 "cells": [
  {
   "cell_type": "markdown",
   "id": "9f26a019-49b9-47d1-9300-65ed2c95de13",
   "metadata": {},
   "source": [
    "# Bevy Air Ace"
   ]
  },
  {
   "cell_type": "markdown",
   "id": "edadf1bb-89be-4cfe-a780-b9b60d3c82ea",
   "metadata": {},
   "source": [
    "## Combination of Solitair and Space Shooter"
   ]
  },
  {
   "cell_type": "markdown",
   "id": "8a8201d9-b23c-44f5-8e1a-7c29dd163b6c",
   "metadata": {},
   "source": [
    "A game with rust(https://www.rust-lang.org) and the bevy framework(https://bevyengine.org). \n",
    "    \n",
    "Thanks to Kenney https://www.kenney.nl for the assets."
   ]
  },
  {
   "cell_type": "markdown",
   "id": "b34fbb95-e2bd-4ce6-aabf-b8d8d08bb61c",
   "metadata": {},
   "source": [
    "<img src=\"img/image1.png\" width=\"320\" align=\"left\"><br><br><br><br><br><br><br><br><br><br>"
   ]
  },
  {
   "cell_type": "markdown",
   "id": "f37e7269-3172-4afa-b07e-c2ee62050b68",
   "metadata": {},
   "source": [
    "<img src=\"img/movie.gif\" width=\"320\" align=\"left\"><br><br><br><br><br><br><br><br><br><br>"
   ]
  },
  {
   "cell_type": "markdown",
   "id": "de01a182-dcda-4adb-b075-37474b448814",
   "metadata": {},
   "source": [
    "<img src=\"img/image2.png\" width=\"320\" align=\"left\"><br><br><br><br><br><br><br><br><br><br>"
   ]
  },
  {
   "cell_type": "code",
   "execution_count": null,
   "id": "1711ccaf-4f64-40bc-aa22-dd983b83aae2",
   "metadata": {},
   "outputs": [],
   "source": []
  }
 ],
 "metadata": {
  "kernelspec": {
   "display_name": "Rust",
   "language": "rust",
   "name": "rust"
  },
  "language_info": {
   "codemirror_mode": "rust",
   "file_extension": ".rs",
   "mimetype": "text/rust",
   "name": "Rust",
   "pygment_lexer": "rust",
   "version": ""
  }
 },
 "nbformat": 4,
 "nbformat_minor": 5
}
