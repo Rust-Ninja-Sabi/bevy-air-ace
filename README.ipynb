{
 "cells": [
  {
   "cell_type": "markdown",
   "id": "9f26a019-49b9-47d1-9300-65ed2c95de13",
   "metadata": {},
   "source": [
    "# Bevy Air Ace"
   ]
  },
  {
   "cell_type": "markdown",
   "id": "edadf1bb-89be-4cfe-a780-b9b60d3c82ea",
   "metadata": {},
   "source": [
    "## Combination of Solitair and Space Shooter"
   ]
  },
  {
   "cell_type": "markdown",
   "id": "8a8201d9-b23c-44f5-8e1a-7c29dd163b6c",
   "metadata": {},
   "source": [
    "A game with rust(https://www.rust-lang.org) and the bevy framework(https://bevyengine.org). \n",
    "    \n",
    "Thanks to Kenney https://www.kenney.nl for the assets."
   ]
  },
  {
   "cell_type": "code",
   "execution_count": null,
   "id": "0d6caad6-d2ad-48de-9ec6-299a6ccc8e40",
   "metadata": {},
   "outputs": [],
   "source": []
  }
 ],
 "metadata": {
  "kernelspec": {
   "display_name": "Rust",
   "language": "rust",
   "name": "rust"
  },
  "language_info": {
   "codemirror_mode": "rust",
   "file_extension": ".rs",
   "mimetype": "text/rust",
   "name": "Rust",
   "pygment_lexer": "rust",
   "version": ""
  }
 },
 "nbformat": 4,
 "nbformat_minor": 5
}
